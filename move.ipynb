{
 "cells": [
  {
   "cell_type": "code",
   "execution_count": 1,
   "id": "85b041e4-a5e5-4d61-8f2e-411af6383b53",
   "metadata": {},
   "outputs": [
    {
     "name": "stdout",
     "output_type": "stream",
     "text": [
      "CHANGELOG.md  \u001b[34ma11y\u001b[m\u001b[m          \u001b[34minterviews\u001b[m\u001b[m    \u001b[34mpeople\u001b[m\u001b[m        \u001b[34mweb-platform\u001b[m\u001b[m\n",
      "CODEOWNERS    check.js      \u001b[34mjs\u001b[m\u001b[m            \u001b[34mrecipes\u001b[m\u001b[m\n",
      "LICENSE-ND.md \u001b[34mcss\u001b[m\u001b[m           move.ipynb    \u001b[34msettings\u001b[m\u001b[m\n",
      "LICENSE-SA.md \u001b[34mdocs\u001b[m\u001b[m          \u001b[31mnew.sh\u001b[m\u001b[m        \u001b[34mspecials\u001b[m\u001b[m\n",
      "README.md     \u001b[34mhtml\u001b[m\u001b[m          \u001b[34mpages\u001b[m\u001b[m         \u001b[31mstart.sh\u001b[m\u001b[m\n"
     ]
    }
   ],
   "source": [
    "!ls"
   ]
  },
  {
   "cell_type": "code",
   "execution_count": 2,
   "id": "01dc8c84-0384-4dab-a160-070ceece86bb",
   "metadata": {},
   "outputs": [],
   "source": [
    "import frontmatter\n",
    "import os\n",
    "import shutil "
   ]
  },
  {
   "cell_type": "code",
   "execution_count": 3,
   "id": "10fa85f7-99e8-4761-8d6d-5f4afc2f9210",
   "metadata": {},
   "outputs": [],
   "source": [
    "js_folder = \"js\"\n",
    "web_folder = \"web-platform\""
   ]
  },
  {
   "cell_type": "code",
   "execution_count": 4,
   "id": "dd80e156-7345-4133-ae0c-fbc469ffb8a9",
   "metadata": {},
   "outputs": [],
   "source": [
    "js_toc_path = f\"{js_folder}/index.md\"\n",
    "web_toc_path = f\"{web_folder}/index.md\""
   ]
  },
  {
   "cell_type": "code",
   "execution_count": 5,
   "id": "471d74e4-2c0f-4a5e-a820-b35e83de8d89",
   "metadata": {},
   "outputs": [],
   "source": [
    "js_content = frontmatter.load(js_toc_path)\n",
    "web_content = frontmatter.load(web_toc_path)"
   ]
  },
  {
   "cell_type": "code",
   "execution_count": 10,
   "id": "dd6004d9-24ab-4e05-b1a7-8c0de169dbd3",
   "metadata": {},
   "outputs": [],
   "source": [
    "def get_flat_list(path_to_folder):\n",
    "    content = frontmatter.load(f\"{path_to_folder}/index.md\")\n",
    "    flat_list = []\n",
    "    for sublist in content['groups']:\n",
    "        for item in sublist['items']:\n",
    "            flat_list.append(item)\n",
    "    return flat_list"
   ]
  },
  {
   "cell_type": "code",
   "execution_count": 11,
   "id": "1b0d5bd4-45ab-49af-a49f-2d291055a414",
   "metadata": {},
   "outputs": [],
   "source": [
    "js_list = get_flat_list(js_folder)\n",
    "web_content = get_flat_list(web_folder)"
   ]
  },
  {
   "cell_type": "code",
   "execution_count": 12,
   "id": "9743d60d-8067-48c5-9390-45320961ccca",
   "metadata": {},
   "outputs": [
    {
     "name": "stdout",
     "output_type": "stream",
     "text": [
      "web-app-types moved\n",
      "web-app-works moved\n",
      "web-security moved\n",
      "reactivity moved\n",
      "technical-debt moved\n",
      "code-style moved\n"
     ]
    }
   ],
   "source": [
    "for item in web_content:\n",
    "    js_exists = os.path.exists(f\"{js_folder}/{item}\")\n",
    "    web_content_exists = os.path.exists(f\"{web_folder}/{item}\")\n",
    "    if (js_exists and (not web_content_exists)):\n",
    "        !mv {js_folder}/{item} {web_folder}/{item}\n",
    "        print(f\"{item} moved\")"
   ]
  },
  {
   "cell_type": "code",
   "execution_count": null,
   "id": "e5a67567-325b-473e-b8a1-e7ab43908c56",
   "metadata": {},
   "outputs": [],
   "source": []
  },
  {
   "cell_type": "code",
   "execution_count": null,
   "id": "5960764f-1bbb-4875-b264-89f945e85a47",
   "metadata": {},
   "outputs": [],
   "source": []
  }
 ],
 "metadata": {
  "kernelspec": {
   "display_name": "Python 3",
   "language": "python",
   "name": "python3"
  },
  "language_info": {
   "codemirror_mode": {
    "name": "ipython",
    "version": 3
   },
   "file_extension": ".py",
   "mimetype": "text/x-python",
   "name": "python",
   "nbconvert_exporter": "python",
   "pygments_lexer": "ipython3",
   "version": "3.10.6 (main, Aug 30 2022, 04:58:14) [Clang 13.1.6 (clang-1316.0.21.2.5)]"
  },
  "vscode": {
   "interpreter": {
    "hash": "b0fa6594d8f4cbf19f97940f81e996739fb7646882a419484c72d19e05852a7e"
   }
  }
 },
 "nbformat": 4,
 "nbformat_minor": 5
}
